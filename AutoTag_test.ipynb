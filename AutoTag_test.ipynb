{
 "cells": [
  {
   "cell_type": "code",
   "execution_count": 1,
   "metadata": {},
   "outputs": [
    {
     "name": "stdout",
     "output_type": "stream",
     "text": [
      "0 4\n"
     ]
    }
   ],
   "source": [
    "a = ''\n",
    "b = 'test'\n",
    "print(len(a),len(b))\n"
   ]
  },
  {
   "cell_type": "code",
   "execution_count": 5,
   "metadata": {},
   "outputs": [
    {
     "name": "stdout",
     "output_type": "stream",
     "text": [
      "cavity/\n"
     ]
    }
   ],
   "source": [
    "info = {\n",
    "    'sample':'transmon',\n",
    "    'env':'cavity',\n",
    "    'proj':''\n",
    "}\n",
    "\n",
    "proj = ''\n",
    "for str in ('sample', 'env', 'proj'):\n",
    "    if len(info[str])!= 0:\n",
    "        proj = proj + info[str] +'/'\n",
    "\n",
    "print(proj)"
   ]
  },
  {
   "cell_type": "code",
   "execution_count": 10,
   "metadata": {},
   "outputs": [
    {
     "name": "stdout",
     "output_type": "stream",
     "text": [
      "<class 'str'>\n"
     ]
    }
   ],
   "source": [
    "a = ['c','a','']\n",
    "sym = '/'.join(a)\n",
    "print(type(sym))\n"
   ]
  },
  {
   "cell_type": "code",
   "execution_count": 11,
   "metadata": {},
   "outputs": [
    {
     "name": "stdout",
     "output_type": "stream",
     "text": [
      "0\n"
     ]
    }
   ],
   "source": [
    "a = []\n",
    "print(len(a))"
   ]
  }
 ],
 "metadata": {
  "kernelspec": {
   "display_name": "Python 3.7.13 ('Labber')",
   "language": "python",
   "name": "python3"
  },
  "language_info": {
   "codemirror_mode": {
    "name": "ipython",
    "version": 3
   },
   "file_extension": ".py",
   "mimetype": "text/x-python",
   "name": "python",
   "nbconvert_exporter": "python",
   "pygments_lexer": "ipython3",
   "version": "3.7.13"
  },
  "orig_nbformat": 4,
  "vscode": {
   "interpreter": {
    "hash": "4e07ae12512aae2b86dd8959b52704312543b6866e0e5c3928bf4f3a928156d8"
   }
  }
 },
 "nbformat": 4,
 "nbformat_minor": 2
}
